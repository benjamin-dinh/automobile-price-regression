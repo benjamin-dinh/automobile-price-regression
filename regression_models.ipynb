{
  "nbformat": 4,
  "nbformat_minor": 0,
  "metadata": {
    "colab": {
      "name": "regression_models.ipynb",
      "provenance": [],
      "collapsed_sections": [],
      "include_colab_link": true
    },
    "kernelspec": {
      "name": "python3",
      "display_name": "Python 3"
    }
  },
  "cells": [
    {
      "cell_type": "markdown",
      "metadata": {
        "id": "view-in-github",
        "colab_type": "text"
      },
      "source": [
        "<a href=\"https://colab.research.google.com/github/benjamin-dinh/regression-models/blob/main/regression_models.ipynb\" target=\"_parent\"><img src=\"https://colab.research.google.com/assets/colab-badge.svg\" alt=\"Open In Colab\"/></a>"
      ]
    },
    {
      "cell_type": "markdown",
      "metadata": {
        "id": "kZ0O4l8CViYs"
      },
      "source": [
        "# **Regression Model of Automobile Prices**\n",
        "\n",
        "---\n"
      ]
    },
    {
      "cell_type": "markdown",
      "metadata": {
        "id": "0FeqNdkYaLLW"
      },
      "source": [
        "Built a regression model of the price of an automobile as a function of many of its attributes, e.g., weight, number of doors, engine location, etc. \n",
        "\n",
        "The data set comes from UCI dataset archive:\n",
        "https://archive.ics.uci.edu/ml/datasets/Automobile\n"
      ]
    },
    {
      "cell_type": "markdown",
      "metadata": {
        "id": "nP6lCLfTIkJW"
      },
      "source": [
        "##  ***Regression in Python***"
      ]
    },
    {
      "cell_type": "code",
      "metadata": {
        "id": "sZaVyqMxfCET"
      },
      "source": [
        "import pandas as pd\n",
        "import io\n",
        "\n",
        "#import required packages\n",
        "import numpy as np\n",
        "from sklearn.metrics import mean_squared_error \n",
        "from math import sqrt\n",
        "\n",
        "from sklearn import preprocessing\n",
        "from sklearn.preprocessing import PolynomialFeatures\n",
        "from sklearn.metrics import r2_score\n",
        "from sklearn.model_selection import train_test_split\n",
        "from sklearn.preprocessing import StandardScaler\n",
        "\n",
        "from pandas.plotting import scatter_matrix\n",
        "\n",
        "import seaborn as sns"
      ],
      "execution_count": null,
      "outputs": []
    },
    {
      "cell_type": "code",
      "metadata": {
        "id": "UghTvtoMz4Jt",
        "colab": {
          "base_uri": "https://localhost:8080/",
          "height": 359
        },
        "outputId": "8bc621d7-ed07-4661-ef4d-f74d87f90d2d"
      },
      "source": [
        "# load data\n",
        "import pandas as pd\n",
        "url = 'https://archive.ics.uci.edu/ml/machine-learning-databases/autos/imports-85.data'\n",
        "df = pd.read_csv(url)\n",
        "\n",
        "# giving names to columns\n",
        "df.columns = ['symboling','normalized-losses','make','fuel-type','aspiration','num-of-doors','body-style','drive-wheels','engine-location','wheel-base','length','width','height','curb-weight','engine-type','num-of-cylinders','engine-size','fuel-system','bore','stroke','compression-ratio','horsepower','peak-rpm','city-mpg','highway-mpg','price']\n",
        "\n",
        "# Categorical Variables: make, fuel-type, aspiration, num-of-doors, body-style, drive-wheels, engine-location, engine-type, num-of-cylinders, fuel-system\n",
        "\n",
        "# remove rows with question marks\n",
        "df = df[(df != '?').all(axis=1)]\n",
        "\n",
        "# preview\n",
        "df.head(10)"
      ],
      "execution_count": null,
      "outputs": [
        {
          "output_type": "execute_result",
          "data": {
            "text/html": [
              "<div>\n",
              "<style scoped>\n",
              "    .dataframe tbody tr th:only-of-type {\n",
              "        vertical-align: middle;\n",
              "    }\n",
              "\n",
              "    .dataframe tbody tr th {\n",
              "        vertical-align: top;\n",
              "    }\n",
              "\n",
              "    .dataframe thead th {\n",
              "        text-align: right;\n",
              "    }\n",
              "</style>\n",
              "<table border=\"1\" class=\"dataframe\">\n",
              "  <thead>\n",
              "    <tr style=\"text-align: right;\">\n",
              "      <th></th>\n",
              "      <th>symboling</th>\n",
              "      <th>normalized-losses</th>\n",
              "      <th>make</th>\n",
              "      <th>fuel-type</th>\n",
              "      <th>aspiration</th>\n",
              "      <th>num-of-doors</th>\n",
              "      <th>body-style</th>\n",
              "      <th>drive-wheels</th>\n",
              "      <th>engine-location</th>\n",
              "      <th>wheel-base</th>\n",
              "      <th>length</th>\n",
              "      <th>width</th>\n",
              "      <th>height</th>\n",
              "      <th>curb-weight</th>\n",
              "      <th>engine-type</th>\n",
              "      <th>num-of-cylinders</th>\n",
              "      <th>engine-size</th>\n",
              "      <th>fuel-system</th>\n",
              "      <th>bore</th>\n",
              "      <th>stroke</th>\n",
              "      <th>compression-ratio</th>\n",
              "      <th>horsepower</th>\n",
              "      <th>peak-rpm</th>\n",
              "      <th>city-mpg</th>\n",
              "      <th>highway-mpg</th>\n",
              "      <th>price</th>\n",
              "    </tr>\n",
              "  </thead>\n",
              "  <tbody>\n",
              "    <tr>\n",
              "      <th>2</th>\n",
              "      <td>2</td>\n",
              "      <td>164</td>\n",
              "      <td>audi</td>\n",
              "      <td>gas</td>\n",
              "      <td>std</td>\n",
              "      <td>four</td>\n",
              "      <td>sedan</td>\n",
              "      <td>fwd</td>\n",
              "      <td>front</td>\n",
              "      <td>99.8</td>\n",
              "      <td>176.6</td>\n",
              "      <td>66.2</td>\n",
              "      <td>54.3</td>\n",
              "      <td>2337</td>\n",
              "      <td>ohc</td>\n",
              "      <td>four</td>\n",
              "      <td>109</td>\n",
              "      <td>mpfi</td>\n",
              "      <td>3.19</td>\n",
              "      <td>3.40</td>\n",
              "      <td>10.0</td>\n",
              "      <td>102</td>\n",
              "      <td>5500</td>\n",
              "      <td>24</td>\n",
              "      <td>30</td>\n",
              "      <td>13950</td>\n",
              "    </tr>\n",
              "    <tr>\n",
              "      <th>3</th>\n",
              "      <td>2</td>\n",
              "      <td>164</td>\n",
              "      <td>audi</td>\n",
              "      <td>gas</td>\n",
              "      <td>std</td>\n",
              "      <td>four</td>\n",
              "      <td>sedan</td>\n",
              "      <td>4wd</td>\n",
              "      <td>front</td>\n",
              "      <td>99.4</td>\n",
              "      <td>176.6</td>\n",
              "      <td>66.4</td>\n",
              "      <td>54.3</td>\n",
              "      <td>2824</td>\n",
              "      <td>ohc</td>\n",
              "      <td>five</td>\n",
              "      <td>136</td>\n",
              "      <td>mpfi</td>\n",
              "      <td>3.19</td>\n",
              "      <td>3.40</td>\n",
              "      <td>8.0</td>\n",
              "      <td>115</td>\n",
              "      <td>5500</td>\n",
              "      <td>18</td>\n",
              "      <td>22</td>\n",
              "      <td>17450</td>\n",
              "    </tr>\n",
              "    <tr>\n",
              "      <th>5</th>\n",
              "      <td>1</td>\n",
              "      <td>158</td>\n",
              "      <td>audi</td>\n",
              "      <td>gas</td>\n",
              "      <td>std</td>\n",
              "      <td>four</td>\n",
              "      <td>sedan</td>\n",
              "      <td>fwd</td>\n",
              "      <td>front</td>\n",
              "      <td>105.8</td>\n",
              "      <td>192.7</td>\n",
              "      <td>71.4</td>\n",
              "      <td>55.7</td>\n",
              "      <td>2844</td>\n",
              "      <td>ohc</td>\n",
              "      <td>five</td>\n",
              "      <td>136</td>\n",
              "      <td>mpfi</td>\n",
              "      <td>3.19</td>\n",
              "      <td>3.40</td>\n",
              "      <td>8.5</td>\n",
              "      <td>110</td>\n",
              "      <td>5500</td>\n",
              "      <td>19</td>\n",
              "      <td>25</td>\n",
              "      <td>17710</td>\n",
              "    </tr>\n",
              "    <tr>\n",
              "      <th>7</th>\n",
              "      <td>1</td>\n",
              "      <td>158</td>\n",
              "      <td>audi</td>\n",
              "      <td>gas</td>\n",
              "      <td>turbo</td>\n",
              "      <td>four</td>\n",
              "      <td>sedan</td>\n",
              "      <td>fwd</td>\n",
              "      <td>front</td>\n",
              "      <td>105.8</td>\n",
              "      <td>192.7</td>\n",
              "      <td>71.4</td>\n",
              "      <td>55.9</td>\n",
              "      <td>3086</td>\n",
              "      <td>ohc</td>\n",
              "      <td>five</td>\n",
              "      <td>131</td>\n",
              "      <td>mpfi</td>\n",
              "      <td>3.13</td>\n",
              "      <td>3.40</td>\n",
              "      <td>8.3</td>\n",
              "      <td>140</td>\n",
              "      <td>5500</td>\n",
              "      <td>17</td>\n",
              "      <td>20</td>\n",
              "      <td>23875</td>\n",
              "    </tr>\n",
              "    <tr>\n",
              "      <th>9</th>\n",
              "      <td>2</td>\n",
              "      <td>192</td>\n",
              "      <td>bmw</td>\n",
              "      <td>gas</td>\n",
              "      <td>std</td>\n",
              "      <td>two</td>\n",
              "      <td>sedan</td>\n",
              "      <td>rwd</td>\n",
              "      <td>front</td>\n",
              "      <td>101.2</td>\n",
              "      <td>176.8</td>\n",
              "      <td>64.8</td>\n",
              "      <td>54.3</td>\n",
              "      <td>2395</td>\n",
              "      <td>ohc</td>\n",
              "      <td>four</td>\n",
              "      <td>108</td>\n",
              "      <td>mpfi</td>\n",
              "      <td>3.50</td>\n",
              "      <td>2.80</td>\n",
              "      <td>8.8</td>\n",
              "      <td>101</td>\n",
              "      <td>5800</td>\n",
              "      <td>23</td>\n",
              "      <td>29</td>\n",
              "      <td>16430</td>\n",
              "    </tr>\n",
              "    <tr>\n",
              "      <th>10</th>\n",
              "      <td>0</td>\n",
              "      <td>192</td>\n",
              "      <td>bmw</td>\n",
              "      <td>gas</td>\n",
              "      <td>std</td>\n",
              "      <td>four</td>\n",
              "      <td>sedan</td>\n",
              "      <td>rwd</td>\n",
              "      <td>front</td>\n",
              "      <td>101.2</td>\n",
              "      <td>176.8</td>\n",
              "      <td>64.8</td>\n",
              "      <td>54.3</td>\n",
              "      <td>2395</td>\n",
              "      <td>ohc</td>\n",
              "      <td>four</td>\n",
              "      <td>108</td>\n",
              "      <td>mpfi</td>\n",
              "      <td>3.50</td>\n",
              "      <td>2.80</td>\n",
              "      <td>8.8</td>\n",
              "      <td>101</td>\n",
              "      <td>5800</td>\n",
              "      <td>23</td>\n",
              "      <td>29</td>\n",
              "      <td>16925</td>\n",
              "    </tr>\n",
              "    <tr>\n",
              "      <th>11</th>\n",
              "      <td>0</td>\n",
              "      <td>188</td>\n",
              "      <td>bmw</td>\n",
              "      <td>gas</td>\n",
              "      <td>std</td>\n",
              "      <td>two</td>\n",
              "      <td>sedan</td>\n",
              "      <td>rwd</td>\n",
              "      <td>front</td>\n",
              "      <td>101.2</td>\n",
              "      <td>176.8</td>\n",
              "      <td>64.8</td>\n",
              "      <td>54.3</td>\n",
              "      <td>2710</td>\n",
              "      <td>ohc</td>\n",
              "      <td>six</td>\n",
              "      <td>164</td>\n",
              "      <td>mpfi</td>\n",
              "      <td>3.31</td>\n",
              "      <td>3.19</td>\n",
              "      <td>9.0</td>\n",
              "      <td>121</td>\n",
              "      <td>4250</td>\n",
              "      <td>21</td>\n",
              "      <td>28</td>\n",
              "      <td>20970</td>\n",
              "    </tr>\n",
              "    <tr>\n",
              "      <th>12</th>\n",
              "      <td>0</td>\n",
              "      <td>188</td>\n",
              "      <td>bmw</td>\n",
              "      <td>gas</td>\n",
              "      <td>std</td>\n",
              "      <td>four</td>\n",
              "      <td>sedan</td>\n",
              "      <td>rwd</td>\n",
              "      <td>front</td>\n",
              "      <td>101.2</td>\n",
              "      <td>176.8</td>\n",
              "      <td>64.8</td>\n",
              "      <td>54.3</td>\n",
              "      <td>2765</td>\n",
              "      <td>ohc</td>\n",
              "      <td>six</td>\n",
              "      <td>164</td>\n",
              "      <td>mpfi</td>\n",
              "      <td>3.31</td>\n",
              "      <td>3.19</td>\n",
              "      <td>9.0</td>\n",
              "      <td>121</td>\n",
              "      <td>4250</td>\n",
              "      <td>21</td>\n",
              "      <td>28</td>\n",
              "      <td>21105</td>\n",
              "    </tr>\n",
              "    <tr>\n",
              "      <th>17</th>\n",
              "      <td>2</td>\n",
              "      <td>121</td>\n",
              "      <td>chevrolet</td>\n",
              "      <td>gas</td>\n",
              "      <td>std</td>\n",
              "      <td>two</td>\n",
              "      <td>hatchback</td>\n",
              "      <td>fwd</td>\n",
              "      <td>front</td>\n",
              "      <td>88.4</td>\n",
              "      <td>141.1</td>\n",
              "      <td>60.3</td>\n",
              "      <td>53.2</td>\n",
              "      <td>1488</td>\n",
              "      <td>l</td>\n",
              "      <td>three</td>\n",
              "      <td>61</td>\n",
              "      <td>2bbl</td>\n",
              "      <td>2.91</td>\n",
              "      <td>3.03</td>\n",
              "      <td>9.5</td>\n",
              "      <td>48</td>\n",
              "      <td>5100</td>\n",
              "      <td>47</td>\n",
              "      <td>53</td>\n",
              "      <td>5151</td>\n",
              "    </tr>\n",
              "    <tr>\n",
              "      <th>18</th>\n",
              "      <td>1</td>\n",
              "      <td>98</td>\n",
              "      <td>chevrolet</td>\n",
              "      <td>gas</td>\n",
              "      <td>std</td>\n",
              "      <td>two</td>\n",
              "      <td>hatchback</td>\n",
              "      <td>fwd</td>\n",
              "      <td>front</td>\n",
              "      <td>94.5</td>\n",
              "      <td>155.9</td>\n",
              "      <td>63.6</td>\n",
              "      <td>52.0</td>\n",
              "      <td>1874</td>\n",
              "      <td>ohc</td>\n",
              "      <td>four</td>\n",
              "      <td>90</td>\n",
              "      <td>2bbl</td>\n",
              "      <td>3.03</td>\n",
              "      <td>3.11</td>\n",
              "      <td>9.6</td>\n",
              "      <td>70</td>\n",
              "      <td>5400</td>\n",
              "      <td>38</td>\n",
              "      <td>43</td>\n",
              "      <td>6295</td>\n",
              "    </tr>\n",
              "  </tbody>\n",
              "</table>\n",
              "</div>"
            ],
            "text/plain": [
              "    symboling normalized-losses       make  ... city-mpg highway-mpg  price\n",
              "2           2               164       audi  ...       24          30  13950\n",
              "3           2               164       audi  ...       18          22  17450\n",
              "5           1               158       audi  ...       19          25  17710\n",
              "7           1               158       audi  ...       17          20  23875\n",
              "9           2               192        bmw  ...       23          29  16430\n",
              "10          0               192        bmw  ...       23          29  16925\n",
              "11          0               188        bmw  ...       21          28  20970\n",
              "12          0               188        bmw  ...       21          28  21105\n",
              "17          2               121  chevrolet  ...       47          53   5151\n",
              "18          1                98  chevrolet  ...       38          43   6295\n",
              "\n",
              "[10 rows x 26 columns]"
            ]
          },
          "metadata": {
            "tags": []
          },
          "execution_count": 27
        }
      ]
    },
    {
      "cell_type": "code",
      "metadata": {
        "id": "QzR31ITJdN6I",
        "colab": {
          "base_uri": "https://localhost:8080/",
          "height": 282
        },
        "outputId": "b931ce1d-e7f9-46e7-a107-5e5b97b52461"
      },
      "source": [
        "df.columns\n",
        "\n",
        "# df.describe(include = 'all')\n",
        "# df.drop('curb-weight', axis=1).boxplot()\n",
        "# df[['wheel-base']].boxplot()\n",
        "# df[['length']].boxplot()\n",
        "# df[['width']].boxplot()\n",
        "# df[['height']].boxplot()\n",
        "# df[['curb-weight']].boxplot()\n",
        "# df[['engine-size']].boxplot()\n",
        "# df[['compression-ratio']].boxplot()\n",
        "# df[['city-mpg']].boxplot()\n",
        "# df[['highway-mpg']].boxplot()\n",
        "\n",
        "# get rid of outliers\n",
        "\n",
        "from scipy import stats\n",
        "# n_df = df[(np.abs(stats.zscore(df['curb-weight'])) < 2)]\n",
        "# n_df = df[(np.abs(stats.zscore(df['curb-weight'])) < 2)]\n",
        "# n_df[['curb-weight']].boxplot()\n",
        "\n",
        "import numpy as np\n",
        "df = df[(np.abs(stats.zscore(df['price'].astype(float))) < 2)]\n",
        "# df['log-price'] = df['log-price'].apply(np.log)\n",
        "df['compression-ratio'] = df['compression-ratio'].apply(np.log)\n",
        "df.boxplot()"
      ],
      "execution_count": null,
      "outputs": [
        {
          "output_type": "execute_result",
          "data": {
            "text/plain": [
              "<matplotlib.axes._subplots.AxesSubplot at 0x7f8ad65ba208>"
            ]
          },
          "metadata": {
            "tags": []
          },
          "execution_count": 28
        },
        {
          "output_type": "display_data",
          "data": {
            "image/png": "[encoded data removed]",
            "text/plain": [
              "<Figure size 432x288 with 1 Axes>"
            ]
          },
          "metadata": {
            "tags": [],
            "needs_background": "light"
          }
        }
      ]
    },
    {
      "cell_type": "markdown",
      "metadata": {
        "id": "pnObOqkCdgKF"
      },
      "source": [
        "## **Model of Automobile Price Excluding Categorical Variables**"
      ]
    },
    {
      "cell_type": "markdown",
      "metadata": {
        "id": "iURuyBSPJ0YR"
      },
      "source": [
        "### Select the dependent variable, and independent variables of interest."
      ]
    },
    {
      "cell_type": "code",
      "metadata": {
        "id": "y4zNWhd7zVc4"
      },
      "source": [
        "Y = df[['price']].astype(float)\n",
        "\n",
        "# Manual Forward Iteration Results (predictor, adj r^2)\n",
        "# curb-weight, 0.737\n",
        "# curb-weight, horsepower, 0.77\n",
        "# curb-weight, horsepower, width, 0.79\n",
        "# curb-weight, horsepower, width, normalized-losses, 0.80\n",
        "# curb-weight, horsepower, width, normalized-losses, wheel-base, 0.813\n",
        "# curb-weight, horsepower, width, normalized-losses, wheel-base, stroke, 0.817\n",
        "# curb-weight, horsepower, width, normalized-losses, wheel-base, stroke, compression-ratio, 0.820\n",
        "# curb-weight, horsepower, width, normalized-losses, wheel-base, stroke, compression-ratio, height, 0.82123\n",
        "# curb-weight, horsepower, width, normalized-losses, wheel-base, stroke, compression-ratio, height, length, 0.82133\n",
        "\n",
        "X = df[['normalized-losses','wheel-base','width','height','stroke','compression-ratio','horsepower']].astype(float)"
      ],
      "execution_count": null,
      "outputs": []
    },
    {
      "cell_type": "markdown",
      "metadata": {
        "id": "WII0vPON79g7"
      },
      "source": [
        "###Build Model with statsmodels#"
      ]
    },
    {
      "cell_type": "code",
      "metadata": {
        "id": "VH2hILWY8CAo"
      },
      "source": [
        "import statsmodels.api as sm\n",
        "import statsmodels.formula.api as smf"
      ],
      "execution_count": null,
      "outputs": []
    },
    {
      "cell_type": "code",
      "metadata": {
        "id": "YMBWxw4W8FAJ",
        "colab": {
          "base_uri": "https://localhost:8080/"
        },
        "outputId": "9746c9cf-7911-4631-a8cb-9403188a75e6"
      },
      "source": [
        "# create the X matrix by appending a column of ones to X\n",
        "X = sm.add_constant(X)\n",
        "\n",
        "# check VIF\n",
        "from statsmodels.stats.outliers_influence import variance_inflation_factor\n",
        "vif_df = {name: variance_inflation_factor(X.values, i) for name, i in zip(X.columns, range(X.shape[1]))}\n",
        "vif_df"
      ],
      "execution_count": null,
      "outputs": [
        {
          "output_type": "execute_result",
          "data": {
            "text/plain": [
              "{'compression-ratio': 1.3596550656178943,\n",
              " 'const': 3952.279045390368,\n",
              " 'height': 2.063429176886124,\n",
              " 'horsepower': 2.5057487633512703,\n",
              " 'normalized-losses': 1.378042100006844,\n",
              " 'stroke': 1.0849311803843338,\n",
              " 'wheel-base': 4.25472999921403,\n",
              " 'width': 4.289649479258853}"
            ]
          },
          "metadata": {
            "tags": []
          },
          "execution_count": 31
        }
      ]
    },
    {
      "cell_type": "code",
      "metadata": {
        "id": "p8Bt-TrDe5U3",
        "colab": {
          "base_uri": "https://localhost:8080/",
          "height": 368
        },
        "outputId": "7aeb9e89-23a0-4476-985e-def652d24287"
      },
      "source": [
        "model = sm.OLS(Y,X)\n",
        "results_sm = model.fit()\n",
        "\n",
        "pred_val = results_sm.fittedvalues.copy()\n",
        "true_val = df['price'].astype(float).values.copy()\n",
        "residual = true_val - pred_val\n",
        "\n",
        "from matplotlib import pyplot as plt\n",
        "fig, ax = plt.subplots(figsize=(6,2.5))\n",
        "ax.hist(residual)\n",
        "fig, ax = plt.subplots(figsize=(6,2.5))\n",
        "ax.scatter(pred_val,residual)\n",
        "plt.axhline(0, color='k')"
      ],
      "execution_count": null,
      "outputs": [
        {
          "output_type": "execute_result",
          "data": {
            "text/plain": [
              "<matplotlib.lines.Line2D at 0x7f8ad63c6438>"
            ]
          },
          "metadata": {
            "tags": []
          },
          "execution_count": 32
        },
        {
          "output_type": "display_data",
          "data": {
            "image/png": "[encoded data removed]",
            "text/plain": [
              "<Figure size 432x180 with 1 Axes>"
            ]
          },
          "metadata": {
            "tags": [],
            "needs_background": "light"
          }
        },
        {
          "output_type": "display_data",
          "data": {
            "image/png": "[encoded data removed]",
            "text/plain": [
              "<Figure size 432x180 with 1 Axes>"
            ]
          },
          "metadata": {
            "tags": [],
            "needs_background": "light"
          }
        }
      ]
    },
    {
      "cell_type": "markdown",
      "metadata": {
        "id": "yXN459Uzezn5"
      },
      "source": [
        "### Summary of Best Model"
      ]
    },
    {
      "cell_type": "code",
      "metadata": {
        "id": "LgaUTOTS8viH",
        "colab": {
          "base_uri": "https://localhost:8080/"
        },
        "outputId": "3dbf8500-923e-4d9f-c327-3e9e299e91d2"
      },
      "source": [
        "print(results_sm.summary())"
      ],
      "execution_count": null,
      "outputs": [
        {
          "output_type": "stream",
          "text": [
            "                            OLS Regression Results                            \n",
            "==============================================================================\n",
            "Dep. Variable:                  price   R-squared:                       0.822\n",
            "Model:                            OLS   Adj. R-squared:                  0.814\n",
            "Method:                 Least Squares   F-statistic:                     95.22\n",
            "Date:                Tue, 10 Nov 2020   Prob (F-statistic):           8.09e-51\n",
            "Time:                        01:24:15   Log-Likelihood:                -1362.1\n",
            "No. Observations:                 152   AIC:                             2740.\n",
            "Df Residuals:                     144   BIC:                             2764.\n",
            "Df Model:                           7                                         \n",
            "Covariance Type:            nonrobust                                         \n",
            "=====================================================================================\n",
            "                        coef    std err          t      P>|t|      [0.025      0.975]\n",
            "-------------------------------------------------------------------------------------\n",
            "const              -5.91e+04   9882.313     -5.981      0.000   -7.86e+04   -3.96e+04\n",
            "normalized-losses    21.2716      5.148      4.132      0.000      11.096      31.447\n",
            "wheel-base          274.4476     69.982      3.922      0.000     136.123     412.772\n",
            "width               347.1188    197.059      1.761      0.080     -42.383     736.621\n",
            "height              173.4293    100.890      1.719      0.088     -25.987     372.846\n",
            "stroke            -1529.3498    579.669     -2.638      0.009   -2675.109    -383.590\n",
            "compression-ratio  2335.6792    746.411      3.129      0.002     860.341    3811.017\n",
            "horsepower           84.4795      8.390     10.069      0.000      67.896     101.063\n",
            "==============================================================================\n",
            "Omnibus:                       30.747   Durbin-Watson:                   1.083\n",
            "Prob(Omnibus):                  0.000   Jarque-Bera (JB):               50.165\n",
            "Skew:                           1.004   Prob(JB):                     1.28e-11\n",
            "Kurtosis:                       4.971   Cond. No.                     1.28e+04\n",
            "==============================================================================\n",
            "\n",
            "Warnings:\n",
            "[1] Standard Errors assume that the covariance matrix of the errors is correctly specified.\n",
            "[2] The condition number is large, 1.28e+04. This might indicate that there are\n",
            "strong multicollinearity or other numerical problems.\n"
          ],
          "name": "stdout"
        }
      ]
    },
    {
      "cell_type": "markdown",
      "metadata": {
        "id": "iGFZVSGKet_-"
      },
      "source": [
        "### $R^2$ and adj. $R^2$ "
      ]
    },
    {
      "cell_type": "code",
      "metadata": {
        "id": "ZCKNkYwfenXh",
        "colab": {
          "base_uri": "https://localhost:8080/"
        },
        "outputId": "998adf5e-60e0-44ba-ffa7-1a2dc7f03971"
      },
      "source": [
        "print('R^2 =', results_sm.rsquared)\n",
        "print('adj. R^2 =', results_sm.rsquared_adj)"
      ],
      "execution_count": null,
      "outputs": [
        {
          "output_type": "stream",
          "text": [
            "R^2 = 0.8223477972317363\n",
            "adj. R^2 = 0.8137119262638346\n"
          ],
          "name": "stdout"
        }
      ]
    },
    {
      "cell_type": "markdown",
      "metadata": {
        "id": "-hPT75_3fgZy"
      },
      "source": [
        "## **Top 3 Most Important Variables in Model**\n"
      ]
    },
    {
      "cell_type": "markdown",
      "metadata": {
        "id": "Dpn3GLP4fgZy"
      },
      "source": [
        "### Important variables and the variance explained by each."
      ]
    },
    {
      "cell_type": "code",
      "metadata": {
        "id": "3w3ysY5YfgZz",
        "colab": {
          "base_uri": "https://localhost:8080/"
        },
        "outputId": "a55f6458-09df-4b07-b912-4877bd1a1944"
      },
      "source": [
        "Y = df[['price']].astype(float)\n",
        "X = df[['normalized-losses','wheel-base','width','height','stroke','compression-ratio','horsepower']]\n",
        "# Loop to look at all adj r^2 for each predictor\n",
        "# for category in X:\n",
        "#   X_category = df[[category]].astype(float)\n",
        "#   var_results = sm.OLS(Y,X_category).fit()\n",
        "#   print(var_results.summary(), '\\n')\n",
        "\n",
        "# Results from individual OLS (predictor, adj_r^2, p-value)\n",
        "# normalized-losses, 0.839, 6.94e-62\n",
        "# wheel-base, 0.871, 3.11e-69\n",
        "# width, 0.862, 4.63e-67\n",
        "# height, 0.855, 2.42e-65\n",
        "# stroke, 0.841, 2.64e-62\n",
        "# compression-ratio, 0.839, 6.61e-62\n",
        "# horsepower, 0.943, 3.30e-96\n",
        "\n",
        "X_horsepower = df[['horsepower']].astype(float)\n",
        "X_width = df[['width']].astype(float)\n",
        "X_wheel = df[['wheel-base']].astype(float)\n",
        "horsepower_results = sm.OLS(Y,X_horsepower).fit()\n",
        "width_results = sm.OLS(Y,X_width).fit()\n",
        "wheel_results = sm.OLS(Y,X_wheel).fit()\n",
        "\n",
        "# [variable_1_name, variance, p-value]\n",
        "print('horsepower, variance = {variance}, p-value = {pvalue}'.format(variance=horsepower_results.rsquared_adj, pvalue=horsepower_results.pvalues[0]))\n",
        "\n",
        "# [variable_2_name, variance, p-value]\n",
        "print('wheel-base, variance = {variance}, p-value = {pvalue}'.format(variance=wheel_results.rsquared_adj, pvalue=wheel_results.pvalues[0]))\n",
        "\n",
        "# [variable_3_name, variance, p-value]\n",
        "print('width, variance = {variance}, p-value = {pvalue}'.format(variance=width_results.rsquared_adj, pvalue=width_results.pvalues[0]))"
      ],
      "execution_count": null,
      "outputs": [
        {
          "output_type": "stream",
          "text": [
            "horsepower, variance = 0.9432729924577183, p-value = 3.30265154470019e-96\n",
            "wheel-base, variance = 0.8709267555387493, p-value = 3.1104080680135436e-69\n",
            "width, variance = 0.8620923532278991, p-value = 4.6319800287912644e-67\n"
          ],
          "name": "stdout"
        }
      ]
    },
    {
      "cell_type": "markdown",
      "metadata": {
        "id": "YN2eD9ANgrK0"
      },
      "source": [
        "##**Interpretation of the Model in Regards to Top 3 Attributes**"
      ]
    },
    {
      "cell_type": "markdown",
      "metadata": {
        "id": "dVS-BFV30P1o"
      },
      "source": [
        "1st predictor interpretation: The coefficient of the first predictor (horsepower) is 84.4795. Assuming all other predictors are held constant, this can be interpretted as for every horsepower increase, we expect an $84.4795 increase in price.\n",
        "\n",
        "2nd predictor interpretation: The coefficient of the second predictor (wheel-base) is 274.4476. Assuming all other predictors are held constant, this can be interpretted as for every inch increase of the wheel-base, we expect a $274.4476 increase in price.\n",
        "\n",
        "3rd predictor interpretation: The coefficient of the third predictor (width) is 347.1188. Assuming all other predictors are held constant, this can be interpretted as for every inch increase of the width, we expect a $347.1188 increase in price."
      ]
    },
    {
      "cell_type": "markdown",
      "metadata": {
        "id": "0LAKUgCQh-cA"
      },
      "source": [
        "## **Model of Automobile Price Including Categorical Variables**"
      ]
    },
    {
      "cell_type": "markdown",
      "metadata": {
        "id": "uJnpIkkxh-cB"
      },
      "source": [
        "### Select the dependent variable, and independent variables of interest."
      ]
    },
    {
      "cell_type": "code",
      "metadata": {
        "id": "78PmvWkwh-cB"
      },
      "source": [
        "# Categorical Variables: symboling, make, fuel-type, aspiration, num-of-doors, body-style, drive-wheels, engine-location, engine-type, num-of-cylinders, fuel-system\n",
        "df['symboling'] = df['symboling'].astype('category').cat.codes\n",
        "df['make'] = df['make'].astype('category').cat.codes\n",
        "df['fuel-type'] = df['fuel-type'].astype('category').cat.codes\n",
        "df['aspiration'] = df['aspiration'].astype('category').cat.codes\n",
        "df['num-of-doors'] = df['num-of-doors'].astype('category').cat.codes\n",
        "df['body-style'] = df['body-style'].astype('category').cat.codes\n",
        "df['drive-wheels'] = df['drive-wheels'].astype('category').cat.codes\n",
        "df['engine-location'] = df['engine-location'].astype('category').cat.codes\n",
        "df['engine-type'] = df['engine-type'].astype('category').cat.codes\n",
        "df['num-of-cylinders'] = df['num-of-cylinders'].astype('category').cat.codes\n",
        "df['fuel-system'] = df['fuel-system'].astype('category').cat.codes\n",
        "\n",
        "# Check for outliers\n",
        "# df.astype(float).boxplot()\n",
        "\n",
        "# Manual Forward Iteration Results (predictor, adj r^2)\n",
        "# curb-weight, 0.737\n",
        "# curb-weight, horsepower, 0.77\n",
        "# curb-weight, horsepower, wheel-base, 0.789\n",
        "# curb-weight, horsepower, wheel-base, normalized-losses, 0.8065\n",
        "# curb-weight, horsepower, wheel-base, normalized-losses, stroke, 0.8103\n",
        "# curb-weight, horsepower, wheel-base, normalized-losses, stroke, compression-ratio, 0.8166\n",
        "# curb-weight, horsepower, wheel-base, normalized-losses, stroke, compression-ratio, make, 0.82716\n",
        "# curb-weight, horsepower, wheel-base, normalized-losses, stroke, compression-ratio, make, drive-wheels, 0.83114\n",
        "# curb-weight, horsepower, wheel-base, normalized-losses, stroke, compression-ratio, make, drive-wheels, fuel-type, 0.83179\n",
        "# curb-weight, horsepower, wheel-base, normalized-losses, stroke, compression-ratio, make, drive-wheels, fuel-type, aspiration, 0.835\n",
        "# curb-weight, horsepower, wheel-base, normalized-losses, stroke, compression-ratio, make, drive-wheels, fuel-type, aspiration, fuel-systemm, 0.83725\n",
        "# curb-weight, horsepower, wheel-base, normalized-losses, stroke, compression-ratio, make, drive-wheels, fuel-type, aspiration, fuel-systemm, width, 0.838\n",
        "# curb-weight, horsepower, wheel-base, normalized-losses, stroke, compression-ratio, make, drive-wheels, fuel-type, aspiration, fuel-systemm, width, height, 0.83857\n",
        "# curb-weight, horsepower, wheel-base, normalized-losses, stroke, compression-ratio, make, drive-wheels, fuel-type, aspiration, fuel-systemm, width, height, num-of-doors, 0.83868\n",
        "\n",
        "Y = df[['price']].astype(float)\n",
        "X = df[['horsepower','normalized-losses','stroke','compression-ratio','make','drive-wheels','aspiration','fuel-system','width','height','num-of-doors']].astype(float)"
      ],
      "execution_count": null,
      "outputs": []
    },
    {
      "cell_type": "markdown",
      "metadata": {
        "id": "8ALnvWXsiK7b"
      },
      "source": [
        "###Build Model with statsmodels#"
      ]
    },
    {
      "cell_type": "code",
      "metadata": {
        "id": "X5FlSzcViK7b"
      },
      "source": [
        "import statsmodels.api as sm"
      ],
      "execution_count": null,
      "outputs": []
    },
    {
      "cell_type": "code",
      "metadata": {
        "id": "gEG6RqKyiK7e",
        "colab": {
          "base_uri": "https://localhost:8080/"
        },
        "outputId": "d4ceada9-8fd5-478e-f360-bff48a66adf9"
      },
      "source": [
        "# create the X matrix by appending a column of ones to X\n",
        "X = sm.add_constant(X)\n",
        "\n",
        "# check VIF\n",
        "from statsmodels.stats.outliers_influence import variance_inflation_factor\n",
        "vif_df = {name: variance_inflation_factor(X.values, i) for name, i in zip(X.columns, range(X.shape[1]))}\n",
        "vif_df"
      ],
      "execution_count": null,
      "outputs": [
        {
          "output_type": "execute_result",
          "data": {
            "text/plain": [
              "{'aspiration': 1.3700779772256744,\n",
              " 'compression-ratio': 1.68135671284137,\n",
              " 'const': 3745.4214257007184,\n",
              " 'drive-wheels': 1.7944428465731121,\n",
              " 'fuel-system': 2.4819804672616876,\n",
              " 'height': 1.5632460031103357,\n",
              " 'horsepower': 4.054861786303168,\n",
              " 'make': 1.7248338581512916,\n",
              " 'normalized-losses': 2.088507410326366,\n",
              " 'num-of-doors': 1.5270651988312567,\n",
              " 'stroke': 1.2328464727164872,\n",
              " 'width': 2.6416859054058914}"
            ]
          },
          "metadata": {
            "tags": []
          },
          "execution_count": 38
        }
      ]
    },
    {
      "cell_type": "code",
      "metadata": {
        "id": "Ah8u3ws0iK7g",
        "colab": {
          "base_uri": "https://localhost:8080/",
          "height": 371
        },
        "outputId": "42131328-fabe-4deb-b546-f8ed317ab0ee"
      },
      "source": [
        "model = sm.OLS(Y,X)\n",
        "results_sm = model.fit()\n",
        "\n",
        "pred_val = results_sm.fittedvalues.copy()\n",
        "true_val = df['price'].astype(float).values.copy()\n",
        "residual = true_val - pred_val\n",
        "\n",
        "from matplotlib import pyplot as plt\n",
        "fig, ax = plt.subplots(figsize=(6,2.5))\n",
        "ax.hist(residual)\n",
        "fig, ax = plt.subplots(figsize=(6,2.5))\n",
        "ax.scatter(pred_val,residual)\n",
        "plt.axhline(0, color='k')"
      ],
      "execution_count": null,
      "outputs": [
        {
          "output_type": "execute_result",
          "data": {
            "text/plain": [
              "<matplotlib.lines.Line2D at 0x7f8ad62ad2b0>"
            ]
          },
          "metadata": {
            "tags": []
          },
          "execution_count": 39
        },
        {
          "output_type": "display_data",
          "data": {
            "image/png": "[encoded data removed]",
            "text/plain": [
              "<Figure size 432x180 with 1 Axes>"
            ]
          },
          "metadata": {
            "tags": [],
            "needs_background": "light"
          }
        },
        {
          "output_type": "display_data",
          "data": {
            "image/png": "[encoded data removed]",
            "text/plain": [
              "<Figure size 432x180 with 1 Axes>"
            ]
          },
          "metadata": {
            "tags": [],
            "needs_background": "light"
          }
        }
      ]
    },
    {
      "cell_type": "markdown",
      "metadata": {
        "id": "8hpEOHhpiK7i"
      },
      "source": [
        "### Summary of Best Model."
      ]
    },
    {
      "cell_type": "code",
      "metadata": {
        "id": "ZeOVkWyXiK7i",
        "colab": {
          "base_uri": "https://localhost:8080/"
        },
        "outputId": "eacfe727-1783-4589-c332-8419ac0363c7"
      },
      "source": [
        "print(results_sm.summary())"
      ],
      "execution_count": null,
      "outputs": [
        {
          "output_type": "stream",
          "text": [
            "                            OLS Regression Results                            \n",
            "==============================================================================\n",
            "Dep. Variable:                  price   R-squared:                       0.836\n",
            "Model:                            OLS   Adj. R-squared:                  0.823\n",
            "Method:                 Least Squares   F-statistic:                     64.94\n",
            "Date:                Tue, 10 Nov 2020   Prob (F-statistic):           2.14e-49\n",
            "Time:                        01:24:15   Log-Likelihood:                -1356.0\n",
            "No. Observations:                 152   AIC:                             2736.\n",
            "Df Residuals:                     140   BIC:                             2772.\n",
            "Df Model:                          11                                         \n",
            "Covariance Type:            nonrobust                                         \n",
            "=====================================================================================\n",
            "                        coef    std err          t      P>|t|      [0.025      0.975]\n",
            "-------------------------------------------------------------------------------------\n",
            "const             -6.141e+04   9370.567     -6.553      0.000   -7.99e+04   -4.29e+04\n",
            "horsepower           73.6772     10.396      7.087      0.000      53.124      94.230\n",
            "normalized-losses    11.3005      6.173      1.831      0.069      -0.905      23.506\n",
            "stroke            -2124.7370    601.886     -3.530      0.001   -3314.698    -934.776\n",
            "compression-ratio  2423.8800    808.490      2.998      0.003     825.453    4022.307\n",
            "make               -152.9919     46.664     -3.279      0.001    -245.249     -60.735\n",
            "drive-wheels       1614.1894    393.660      4.100      0.000     835.903    2392.476\n",
            "aspiration          503.7738    509.388      0.989      0.324    -503.314    1510.861\n",
            "fuel-system         212.2080    152.859      1.388      0.167     -90.003     514.419\n",
            "width               707.1207    150.628      4.694      0.000     409.320    1004.921\n",
            "height              334.6736     85.536      3.913      0.000     165.565     503.782\n",
            "num-of-doors       -761.5549    385.009     -1.978      0.050   -1522.738      -0.372\n",
            "==============================================================================\n",
            "Omnibus:                       30.387   Durbin-Watson:                   1.141\n",
            "Prob(Omnibus):                  0.000   Jarque-Bera (JB):               50.036\n",
            "Skew:                           0.988   Prob(JB):                     1.36e-11\n",
            "Kurtosis:                       5.000   Cond. No.                     1.09e+04\n",
            "==============================================================================\n",
            "\n",
            "Warnings:\n",
            "[1] Standard Errors assume that the covariance matrix of the errors is correctly specified.\n",
            "[2] The condition number is large, 1.09e+04. This might indicate that there are\n",
            "strong multicollinearity or other numerical problems.\n"
          ],
          "name": "stdout"
        }
      ]
    },
    {
      "cell_type": "markdown",
      "metadata": {
        "id": "hHmno47UiK7k"
      },
      "source": [
        "### $R^2$ and adj. $R^2$ "
      ]
    },
    {
      "cell_type": "code",
      "metadata": {
        "id": "FIEuAewpiK7k",
        "colab": {
          "base_uri": "https://localhost:8080/"
        },
        "outputId": "79e6fbe6-0fef-402f-bb3f-c499a17c51e2"
      },
      "source": [
        "print('R^2 =', results_sm.rsquared)\n",
        "print('adj. R^2 =', results_sm.rsquared_adj)"
      ],
      "execution_count": null,
      "outputs": [
        {
          "output_type": "stream",
          "text": [
            "R^2 = 0.8361307217641115\n",
            "adj. R^2 = 0.8232552784741489\n"
          ],
          "name": "stdout"
        }
      ]
    },
    {
      "cell_type": "markdown",
      "metadata": {
        "id": "oRRotG_AiZgD"
      },
      "source": [
        "## **Polynomial Regression**"
      ]
    },
    {
      "cell_type": "markdown",
      "metadata": {
        "id": "DM3vpxK9iZgE"
      },
      "source": [
        "### Select the dependent variable, and independent variables of interest."
      ]
    },
    {
      "cell_type": "code",
      "metadata": {
        "id": "4R4-8NWZiZgE"
      },
      "source": [
        "Y = df[['price']].astype(float)\n",
        "\n",
        "X = df[['horsepower','normalized-losses','stroke','compression-ratio','make','drive-wheels','aspiration','fuel-system','width','height','num-of-doors']].astype(float)\n",
        "X['horsepower-sq'] = X[['horsepower']]**2\n",
        "X['normalized-losses-sq'] = X[['normalized-losses']]**2\n",
        "X['stroke-sq'] = X[['stroke']]**2\n",
        "X['compression-ratio-sq'] = X[['compression-ratio']]**2\n",
        "X['width-sq'] = X[['width']]**2\n",
        "X['height-sq'] = X[['height']]**2\n",
        "X = X[['horsepower','horsepower-sq','normalized-losses','normalized-losses-sq','stroke','stroke-sq','compression-ratio','compression-ratio-sq','make','drive-wheels','aspiration','fuel-system','width','width-sq','height','height-sq','num-of-doors']]"
      ],
      "execution_count": null,
      "outputs": []
    },
    {
      "cell_type": "markdown",
      "metadata": {
        "id": "xD1_8-vZiZgI"
      },
      "source": [
        "###Build Model with statsmodels#"
      ]
    },
    {
      "cell_type": "code",
      "metadata": {
        "id": "9FnqAqVWiZgI"
      },
      "source": [
        "import statsmodels.api as sm"
      ],
      "execution_count": null,
      "outputs": []
    },
    {
      "cell_type": "code",
      "metadata": {
        "id": "rAeAR7k3iZgK",
        "colab": {
          "base_uri": "https://localhost:8080/"
        },
        "outputId": "6451c7fa-851f-45d5-bced-101fdcf3cb40"
      },
      "source": [
        "# create the X matrix by appending a column of ones to X\n",
        "X = sm.add_constant(X)\n",
        "# check VIF\n",
        "from statsmodels.stats.outliers_influence import variance_inflation_factor\n",
        "vif_df = {name: variance_inflation_factor(X.values, i) for name, i in zip(X.columns, range(X.shape[1]))}\n",
        "vif_df"
      ],
      "execution_count": null,
      "outputs": [
        {
          "output_type": "execute_result",
          "data": {
            "text/plain": [
              "{'aspiration': 2.3591085515818686,\n",
              " 'compression-ratio': 835.5161407739263,\n",
              " 'compression-ratio-sq': 853.5604704324282,\n",
              " 'const': 1926176.9486515836,\n",
              " 'drive-wheels': 2.0237839237131783,\n",
              " 'fuel-system': 3.4759926393699523,\n",
              " 'height': 1626.237831518457,\n",
              " 'height-sq': 1609.3962183078231,\n",
              " 'horsepower': 99.15830639403045,\n",
              " 'horsepower-sq': 72.60230948076358,\n",
              " 'make': 2.086350529660408,\n",
              " 'normalized-losses': 40.658028193056595,\n",
              " 'normalized-losses-sq': 37.662944719258974,\n",
              " 'num-of-doors': 1.6532114208566264,\n",
              " 'stroke': 228.22296209529105,\n",
              " 'stroke-sq': 234.33656228979925,\n",
              " 'width': 4012.8030017650576,\n",
              " 'width-sq': 3959.5425270804158}"
            ]
          },
          "metadata": {
            "tags": []
          },
          "execution_count": 44
        }
      ]
    },
    {
      "cell_type": "code",
      "metadata": {
        "id": "7GkBMZtViZgN",
        "colab": {
          "base_uri": "https://localhost:8080/",
          "height": 368
        },
        "outputId": "6c4b054b-4220-47a0-d664-0131e566da6c"
      },
      "source": [
        "model = sm.OLS(Y,X)\n",
        "results_sm = model.fit()\n",
        "\n",
        "pred_val = results_sm.fittedvalues.copy()\n",
        "true_val = df['price'].astype(float).values.copy()\n",
        "residual = true_val - pred_val\n",
        "\n",
        "from matplotlib import pyplot as plt\n",
        "fig, ax = plt.subplots(figsize=(6,2.5))\n",
        "ax.hist(residual)\n",
        "\n",
        "fig, ax = plt.subplots(figsize=(6,2.5))\n",
        "ax.scatter(pred_val,residual)\n",
        "plt.axhline(0, color='k')"
      ],
      "execution_count": null,
      "outputs": [
        {
          "output_type": "execute_result",
          "data": {
            "text/plain": [
              "<matplotlib.lines.Line2D at 0x7f8ad620d630>"
            ]
          },
          "metadata": {
            "tags": []
          },
          "execution_count": 45
        },
        {
          "output_type": "display_data",
          "data": {
            "image/png": "[encoded data removed]",
            "text/plain": [
              "<Figure size 432x180 with 1 Axes>"
            ]
          },
          "metadata": {
            "tags": [],
            "needs_background": "light"
          }
        },
        {
          "output_type": "display_data",
          "data": {
            "image/png": "[encoded data removed]",
            "text/plain": [
              "<Figure size 432x180 with 1 Axes>"
            ]
          },
          "metadata": {
            "tags": [],
            "needs_background": "light"
          }
        }
      ]
    },
    {
      "cell_type": "markdown",
      "metadata": {
        "id": "kzdNgw6xiZgP"
      },
      "source": [
        "### Summary of Best Model"
      ]
    },
    {
      "cell_type": "code",
      "metadata": {
        "id": "HslerBBwiZgP",
        "colab": {
          "base_uri": "https://localhost:8080/"
        },
        "outputId": "e51657dc-37b3-4f8f-cb41-676cad144423"
      },
      "source": [
        "print(results_sm.summary())"
      ],
      "execution_count": null,
      "outputs": [
        {
          "output_type": "stream",
          "text": [
            "                            OLS Regression Results                            \n",
            "==============================================================================\n",
            "Dep. Variable:                  price   R-squared:                       0.855\n",
            "Model:                            OLS   Adj. R-squared:                  0.837\n",
            "Method:                 Least Squares   F-statistic:                     46.46\n",
            "Date:                Tue, 10 Nov 2020   Prob (F-statistic):           1.16e-47\n",
            "Time:                        01:24:16   Log-Likelihood:                -1346.7\n",
            "No. Observations:                 152   AIC:                             2729.\n",
            "Df Residuals:                     134   BIC:                             2784.\n",
            "Df Model:                          17                                         \n",
            "Covariance Type:            nonrobust                                         \n",
            "========================================================================================\n",
            "                           coef    std err          t      P>|t|      [0.025      0.975]\n",
            "----------------------------------------------------------------------------------------\n",
            "const                 1.887e+05   2.04e+05      0.923      0.358   -2.15e+05    5.93e+05\n",
            "horsepower             170.5952     49.436      3.451      0.001      72.820     268.370\n",
            "horsepower-sq           -0.3838      0.191     -2.006      0.047      -0.762      -0.005\n",
            "normalized-losses      -58.1109     26.193     -2.219      0.028    -109.916      -6.306\n",
            "normalized-losses-sq     0.2507      0.091      2.752      0.007       0.071       0.431\n",
            "stroke                1.082e+04   7874.974      1.374      0.172   -4755.680    2.64e+04\n",
            "stroke-sq            -2130.7666   1310.038     -1.626      0.106   -4721.794     460.261\n",
            "compression-ratio     3719.8339   1.73e+04      0.215      0.830   -3.06e+04     3.8e+04\n",
            "compression-ratio-sq  -126.1278   3355.901     -0.038      0.970   -6763.515    6511.260\n",
            "make                  -162.8773     49.353     -3.300      0.001    -260.488     -65.266\n",
            "drive-wheels          1310.1817    402.020      3.259      0.001     515.056    2105.308\n",
            "aspiration             633.0619    642.776      0.985      0.326    -638.237    1904.361\n",
            "fuel-system             52.8138    173.957      0.304      0.762    -291.243     396.871\n",
            "width                -1.002e+04   5645.469     -1.775      0.078   -2.12e+04    1144.303\n",
            "width-sq                81.0194     42.541      1.905      0.059      -3.119     165.158\n",
            "height                3437.0584   2652.985      1.296      0.197   -1810.084    8684.201\n",
            "height-sq              -28.9850     24.405     -1.188      0.237     -77.254      19.285\n",
            "num-of-doors          -541.5237    385.226     -1.406      0.162   -1303.434     220.387\n",
            "==============================================================================\n",
            "Omnibus:                       23.611   Durbin-Watson:                   1.266\n",
            "Prob(Omnibus):                  0.000   Jarque-Bera (JB):               35.285\n",
            "Skew:                           0.823   Prob(JB):                     2.18e-08\n",
            "Kurtosis:                       4.692   Cond. No.                     3.02e+07\n",
            "==============================================================================\n",
            "\n",
            "Warnings:\n",
            "[1] Standard Errors assume that the covariance matrix of the errors is correctly specified.\n",
            "[2] The condition number is large, 3.02e+07. This might indicate that there are\n",
            "strong multicollinearity or other numerical problems.\n"
          ],
          "name": "stdout"
        }
      ]
    },
    {
      "cell_type": "markdown",
      "metadata": {
        "id": "ODrbXLs2iZgQ"
      },
      "source": [
        "### $R^2$ and adj. $R^2$"
      ]
    },
    {
      "cell_type": "code",
      "metadata": {
        "id": "dNLD_5D_kQ3W",
        "colab": {
          "base_uri": "https://localhost:8080/"
        },
        "outputId": "b1ccdc09-f6c8-455d-b4a5-ee37c46f5f94"
      },
      "source": [
        "print('R^2 =', results_sm.rsquared)\n",
        "print('adj. R^2 =', results_sm.rsquared_adj)"
      ],
      "execution_count": null,
      "outputs": [
        {
          "output_type": "stream",
          "text": [
            "R^2 = 0.8549580499891907\n",
            "adj. R^2 = 0.8365572055848343\n"
          ],
          "name": "stdout"
        }
      ]
    }
  ]
}